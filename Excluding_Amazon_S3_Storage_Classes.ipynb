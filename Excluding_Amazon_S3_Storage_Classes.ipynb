{
 "cells": [
  {
   "cell_type": "markdown",
   "metadata": {},
   "source": [
    "# Excluding Amazon S3 Storage Classes When Creating a Dynamic Frame\n",
    "To exclude Amazon S3 storage classes while creating a dynamic frame, use excludeStorageClasses in additionalOptions. AWS Glue automatically uses its own Amazon S3 Lister implementation to list and exclude files corresponding to the specified storage classes.\n",
    "\n",
    "The following Python and Scala examples show how to exclude the GLACIER and DEEP_ARCHIVE storage classes when creating a dynamic frame.\n",
    "\n",
    "Python example:"
   ]
  },
  {
   "cell_type": "code",
   "execution_count": null,
   "metadata": {},
   "outputs": [],
   "source": [
    "glueContext.create_dynamic_frame.from_catalog(\n",
    "    database = \"my_database\",\n",
    "    tableName = \"my_table_name\",\n",
    "    redshift_tmp_dir = \"\",\n",
    "    transformation_ctx = \"my_transformation_context\",\n",
    "    additional_options = {\n",
    "        \"excludeStorageClasses\" : [\"GLACIER\", \"DEEP_ARCHIVE\"]\n",
    "    }\n",
    ")"
   ]
  },
  {
   "cell_type": "markdown",
   "metadata": {},
   "source": [
    "You can also specify excluded storage classes on the AWS Glue console.\n",
    "\n",
    "To exclude Amazon S3 storage classes (console)\n",
    "\n",
    "Sign in to the AWS Management Console and open the AWS Glue console at https://console.aws.amazon.com/glue/.\n",
    "\n",
    "In the navigation pane on the left, choose Tables.\n",
    "\n",
    "Choose the table name in the list, and then choose Edit table.\n",
    "\n",
    "In Table properties, add excludeStorageClasses as a key and [\\\"GLACIER\\\",\\\"DEEP_ARCHIVE\\\"] as a value.\n",
    "\n",
    "Choose Apply."
   ]
  }
 ],
 "metadata": {
  "kernelspec": {
   "display_name": "Python 3.10.5 64-bit",
   "language": "python",
   "name": "python3"
  },
  "language_info": {
   "name": "python",
   "version": "3.10.5"
  },
  "orig_nbformat": 4,
  "vscode": {
   "interpreter": {
    "hash": "c69db75b480e4c127948eb459195a102407f15e89bb67469c7b13529e394f0d2"
   }
  }
 },
 "nbformat": 4,
 "nbformat_minor": 2
}
